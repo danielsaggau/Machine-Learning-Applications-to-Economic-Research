{
  "nbformat": 4,
  "nbformat_minor": 0,
  "metadata": {
    "colab": {
      "name": "Untitled2.ipynb",
      "provenance": [],
      "authorship_tag": "ABX9TyNeetQ5Lu01Y7rh2Zwllu6a",
      "include_colab_link": true
    },
    "kernelspec": {
      "name": "python3",
      "display_name": "Python 3"
    }
  },
  "cells": [
    {
      "cell_type": "markdown",
      "metadata": {
        "id": "view-in-github",
        "colab_type": "text"
      },
      "source": [
        "<a href=\"https://colab.research.google.com/github/danielsaggau/Machine-Learning-Applications-to-Economic-Research/blob/master/notes_rf.ipynb\" target=\"_parent\"><img src=\"https://colab.research.google.com/assets/colab-badge.svg\" alt=\"Open In Colab\"/></a>"
      ]
    },
    {
      "cell_type": "code",
      "metadata": {
        "id": "DEM2hZPiiAzl"
      },
      "source": [
        "# Packages to import \n",
        "import numpy as np\n",
        "import pandas as pd\n",
        "import matplotlib\n",
        "import matplotlib.pyplot as plt\n",
        "\n",
        "from sklearn.linear_model import LinearRegression\n",
        "from sklearn.metrics import mean_squared_error, r2_score\n",
        "from sklearn.model_selection import KFold, cross_val_score\n",
        "from sklearn.model_selection import train_test_split\n",
        "\n",
        "from sklearn import ensemble\n",
        "from sklearn import tree as tree\n",
        "\n",
        "# we start by randomly generating our X's\n",
        "df = pd.DataFrame(data = np.random.normal(50, 75, (1000, 1)), columns = ['x'])\n",
        "df['e'] = np.random.normal(0, 50,(1000, 1))\n",
        "matplotlib.rcParams.update({'font.size': 8, 'figure.figsize': (4, 3)})\n",
        "df.hist()\n"
      ],
      "execution_count": null,
      "outputs": []
    },
    {
      "cell_type": "code",
      "metadata": {
        "id": "f9aMaSLpiNr2"
      },
      "source": [
        "# we define conditions to generate Y's\n",
        "conditions = [\n",
        "    (df['x'] <= -10),\n",
        "    ((df['x']>-10) & (df['x'] <= 100)),\n",
        "    (df['x']>100),\n",
        "    ]\n",
        "# create a list of the values we want to assign for each condition\n",
        "values = [-0.5*df['x']+100, -15, 42+0.5*df['x']]\n",
        "\n",
        "# create a new column and use np.select to assign values to it using our lists as arguments\n",
        "df['y'] = np.select(conditions, values)\n",
        "df['y'] = df['y'] + df['e']\n",
        "df.head()\n",
        "df.plot.scatter(x='x', y='y', c='DarkBlue', alpha = 0.1)"
      ],
      "execution_count": null,
      "outputs": []
    },
    {
      "cell_type": "code",
      "metadata": {
        "id": "ebkRO8teibnH"
      },
      "source": [
        "# source https://github.com/TaddyLab/bds \n",
        "df = pd.read_csv(\"data/prostate.csv\", delimiter = ';')\n",
        "df.head()\n",
        "y = df['lcavol'] \n",
        "X = df.iloc[:, 1:]\n",
        "\n",
        "cart = tree.DecisionTreeRegressor(min_impurity_decrease = 0.01)\n",
        "cart = cart.fit(X, y) #no split on training and test, as we have a very small dataset\n",
        "\n",
        "#dendrogram\n",
        "matplotlib.rcParams.update({'font.size': 8, 'figure.figsize': (4, 4), 'figure.dpi': 200})\n",
        "tree.plot_tree(cart, max_depth = 10, feature_names = list(X.columns), filled = True,\\\n",
        "               fontsize = 3);"
      ],
      "execution_count": null,
      "outputs": []
    }
  ]
}